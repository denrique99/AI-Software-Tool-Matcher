{
 "cells": [
  {
   "cell_type": "code",
   "execution_count": 1,
   "metadata": {},
   "outputs": [
    {
     "name": "stdout",
     "output_type": "stream",
     "text": [
      "Translating 327 texts asynchronously...\n",
      "Translation complete.\n"
     ]
    }
   ],
   "source": [
    "import os\n",
    "import pandas as pd\n",
    "import asyncio\n",
    "from translator import translate_column_to_english\n",
    "from local_matching import load_and_match, evaluate_matching, clean_file\n",
    "from langchain_matcher import process_all_batches\n",
    "\n",
    "# Get the absolute path of the parent directory (one level up)\n",
    "script_dir = os.getcwd()  # Jupyter notebooks run in the current working directory\n",
    "parent_dir = os.path.abspath(os.path.join(script_dir, os.pardir))  # Move one folder up\n",
    "\n",
    "# Construct paths to parallel folders\n",
    "data_dir = os.path.join(parent_dir, \"data\")\n",
    "softwaregini_dir = os.path.join(parent_dir, \"softwaregini_files\")\n",
    "\n",
    "# Ensure the directory exists\n",
    "os.makedirs(data_dir, exist_ok=True)\n",
    "os.makedirs(softwaregini_dir, exist_ok=True)\n",
    "\n",
    "# Define file paths\n",
    "output_file = os.path.join(data_dir, \"full_matched_results.csv\")\n",
    "ground_truth_file = os.path.join(data_dir, \"ground_truth.csv\")\n",
    "input_file = os.path.join(softwaregini_dir, \"organization_tools.csv\")\n",
    "\n",
    "# Run translation (handle async functions in Jupyter properly)\n",
    "df = await translate_column_to_english(input_file)\n",
    "\n"
   ]
  },
  {
   "cell_type": "code",
   "execution_count": 2,
   "metadata": {},
   "outputs": [
    {
     "name": "stdout",
     "output_type": "stream",
     "text": [
      "Cleaning file...\n"
     ]
    }
   ],
   "source": [
    "df = clean_file(df)"
   ]
  },
  {
   "cell_type": "code",
   "execution_count": 3,
   "metadata": {},
   "outputs": [
    {
     "name": "stdout",
     "output_type": "stream",
     "text": [
      "Computing embeddings for human descriptions...\n",
      "Matching human descriptions to tools...\n",
      "Amount of total Matches:  152\n",
      "Amount of potential Matches:  5634\n",
      "Number of dropped/deleted matches: 34\n",
      "Number of final matches: 118\n",
      "Number of potential matches: 335\n",
      "Precision: 0.958\n",
      "Recall: 0.706\n",
      "F1-Score: 0.813\n",
      "True Positives: 113\n",
      "False Positives: 5\n",
      "False Negatives: 47\n",
      "False Positives List:\n",
      "False Negatives List:\n",
      "Results before LLM for cutoff 75:  {'Precision': 0.9576271186440678, 'Recall': 0.70625, 'F1-Score': 0.8129496402877698, 'True Positives': 113, 'False Positives': 5, 'False Negatives': 47, 'False Positives List': [('microsoft teams', 'microsoft teams room'), ('crystal reports activex viewer', 'sap crystal'), ('crystal report runtime sp6', 'sap crystal'), ('mindjet mindmanager reader', 'mindmanager'), ('libreoffice', 'libreoffice')], 'False Negatives List': [('skype meetings', 'skype'), ('mikogo', 'beamyourscreen'), ('sendinblue', 'brevo transactional email'), ('anaconda3', 'anaconda'), ('dynamincs nav app', 'microsoft dynamics 365 business central'), ('barracuda network access client', 'barracuda network access client'), ('smartanalyzer app sdk', 'caseware idea'), ('sendinblue', 'brevo marketing platform'), ('abbyy flexicapture', 'abbyy flexicapture for invoices'), ('microsoft office', 'microsoft 365'), ('cosinex bietertool', 'cosinex vergabemarktplatz (vmp)'), ('adobe spark page', 'adobe creative cloud express'), ('gotowebinar', 'goto webinar'), ('sophos ssl vpn client', 'sophos firewall'), ('zoom', 'zoom'), ('vitero starter', 'vitero inspire'), ('reflectorapp', 'reflector'), ('haufe zeugnis manager premium', 'haufe zeugnis manager'), ('maxon cinemad', 'cinema 4d'), ('libreoffice', 'libreoffice calc'), ('safenet authentication client', 'thales safenet trusted access'), ('dpma direkt', 'dpmadirektpro'), ('adobe spark video', 'adobe creative cloud express'), ('threema', 'threema onprem'), ('onepoint projects', 'planforge (formerly onepoint projects)'), ('microsoft teams', 'microsoft teams'), ('starleaf', 'starleaf'), ('opera stable', 'opera'), ('adobe spark post', 'adobe creative cloud express'), ('icloud', 'apple icloud'), ('teamdrive', 'synqion'), ('bkms incident reporting', 'bkms® system'), ('goto opener', 'goto meeting'), ('pulse secure', 'ivanti connect secure'), ('pafnow companion', 'pafnow process mining'), ('pvsol premium', 'pv*sol'), ('google chrome', 'chrome'), ('bildungsinnovator lernkarten', 'lxt authoring'), ('jet excel add-in', 'jet reports'), ('bildungsinnovator lernkarten', 'lxt engagement'), ('joinme', 'join.me'), ('gotoassist expert', 'goto resolve (formerly gotoassist)'), ('ringcentral meetings', 'ringcentral mvp'), ('microsoft report builder', 'microsoft® report builder'), ('d.vinci', 'd.vinci bewerbermanagement'), ('uipath studio', 'uipath studio'), ('adobe photoshop elements', 'photoshop elements')]}\n"
     ]
    },
    {
     "name": "stderr",
     "output_type": "stream",
     "text": [
      "100%|██████████| 7/7 [03:02<00:00, 26.09s/it]\n"
     ]
    },
    {
     "name": "stdout",
     "output_type": "stream",
     "text": [
      "Precision: 0.950\n",
      "Recall: 0.825\n",
      "F1-Score: 0.883\n",
      "True Positives: 132\n",
      "False Positives: 7\n",
      "False Negatives: 28\n",
      "False Positives List:\n",
      "False Negatives List:\n",
      "Results with LLM For cutoff 75: {'Precision': 0.9496402877697842, 'Recall': 0.825, 'F1-Score': 0.882943143812709, 'True Positives': 132, 'False Positives': 7, 'False Negatives': 28, 'False Positives List': [('inkscape', 'camtasia'), ('textpad', 'textpad'), ('microsoft teams', 'microsoft teams room'), ('crystal reports activex viewer', 'sap crystal'), ('crystal report runtime sp6', 'sap crystal'), ('mindjet mindmanager reader', 'mindmanager'), ('libreoffice', 'libreoffice')], 'False Negatives List': [('mikogo', 'beamyourscreen'), ('sendinblue', 'brevo transactional email'), ('anaconda3', 'anaconda'), ('dynamincs nav app', 'microsoft dynamics 365 business central'), ('smartanalyzer app sdk', 'caseware idea'), ('sendinblue', 'brevo marketing platform'), ('abbyy flexicapture', 'abbyy flexicapture for invoices'), ('microsoft office', 'microsoft 365'), ('cosinex bietertool', 'cosinex vergabemarktplatz (vmp)'), ('adobe spark page', 'adobe creative cloud express'), ('gotowebinar', 'goto webinar'), ('sophos ssl vpn client', 'sophos firewall'), ('zoom', 'zoom'), ('vitero starter', 'vitero inspire'), ('safenet authentication client', 'thales safenet trusted access'), ('libreoffice', 'libreoffice calc'), ('threema', 'threema onprem'), ('adobe spark video', 'adobe creative cloud express'), ('microsoft teams', 'microsoft teams'), ('adobe spark post', 'adobe creative cloud express'), ('pulse secure', 'ivanti connect secure'), ('bildungsinnovator lernkarten', 'lxt authoring'), ('bildungsinnovator lernkarten', 'lxt engagement'), ('joinme', 'join.me'), ('gotoassist expert', 'goto resolve (formerly gotoassist)'), ('ringcentral meetings', 'ringcentral mvp'), ('d.vinci', 'd.vinci bewerbermanagement'), ('adobe photoshop elements', 'photoshop elements')]}\n",
      "Computing embeddings for human descriptions...\n",
      "Matching human descriptions to tools...\n",
      "Amount of total Matches:  121\n",
      "Amount of potential Matches:  3559\n",
      "Number of dropped/deleted matches: 22\n",
      "Number of final matches: 99\n",
      "Number of potential matches: 307\n",
      "Precision: 0.980\n",
      "Recall: 0.606\n",
      "F1-Score: 0.749\n",
      "True Positives: 97\n",
      "False Positives: 2\n",
      "False Negatives: 63\n",
      "False Positives List:\n",
      "False Negatives List:\n",
      "Results before LLM for cutoff 80:  {'Precision': 0.9797979797979798, 'Recall': 0.60625, 'F1-Score': 0.7490347490347489, 'True Positives': 97, 'False Positives': 2, 'False Negatives': 63, 'False Positives List': [('microsoft teams', 'microsoft teams room'), ('mindjet mindmanager reader', 'mindmanager')], 'False Negatives List': [('skype meetings', 'skype'), ('mikogo', 'beamyourscreen'), ('sendinblue', 'brevo transactional email'), ('anaconda3', 'anaconda'), ('dynamincs nav app', 'microsoft dynamics 365 business central'), ('barracuda network access client', 'barracuda network access client'), ('smartanalyzer app sdk', 'caseware idea'), ('github desktop', 'github'), ('sendinblue', 'brevo marketing platform'), ('abbyy flexicapture', 'abbyy flexicapture for invoices'), ('microsoft office', 'microsoft 365'), ('gotomeeting', 'goto meeting'), ('microsoft visio viewer', 'visio'), ('adobe spark page', 'adobe creative cloud express'), ('gotowebinar', 'goto webinar'), ('cosinex bietertool', 'cosinex vergabemarktplatz (vmp)'), ('zoom', 'zoom'), ('sophos ssl vpn client', 'sophos firewall'), ('vitero starter', 'vitero inspire'), ('microsoft power bi report builder', 'microsoft power bi desktop'), ('reflectorapp', 'reflector'), ('idea', 'caseware idea'), ('haufe zeugnis manager premium', 'haufe zeugnis manager'), ('notepad++', 'notepad++'), ('maxon cinemad', 'cinema 4d'), ('microsoft visual studio', 'visual studio'), ('libreoffice', 'libreoffice calc'), ('dpma direkt', 'dpmadirektpro'), ('adobe spark video', 'adobe creative cloud express'), ('safenet authentication client', 'thales safenet trusted access'), ('threema', 'threema onprem'), ('onepoint projects', 'planforge (formerly onepoint projects)'), ('microsoft teams', 'microsoft teams'), ('microsoft visio', 'visio'), ('microsoft todo für windows 10', 'microsoft to do'), ('starleaf', 'starleaf'), ('opera stable', 'opera'), ('adobe spark post', 'adobe creative cloud express'), ('icloud', 'apple icloud'), ('teamdrive', 'synqion'), ('bkms incident reporting', 'bkms® system'), ('goto opener', 'goto meeting'), ('pulse secure', 'ivanti connect secure'), ('pafnow companion', 'pafnow process mining'), ('pvsol premium', 'pv*sol'), ('meistertask', 'meistertask'), ('google chrome', 'chrome'), ('bildungsinnovator lernkarten', 'lxt authoring'), ('cofenster', 'cofenster'), ('jet excel add-in', 'jet reports'), ('bildungsinnovator lernkarten', 'lxt engagement'), ('easyslides', 'easyslides'), ('dropbox', 'dropbox'), ('joinme', 'join.me'), ('gotoassist expert', 'goto resolve (formerly gotoassist)'), ('ringcentral meetings', 'ringcentral mvp'), ('microsoft report builder', 'microsoft® report builder'), ('d.vinci', 'd.vinci bewerbermanagement'), ('microsoft onedrive', 'microsoft onedrive for business'), ('uipath studio', 'uipath studio'), ('teams', 'microsoft teams'), ('adobe photoshop elements', 'photoshop elements'), ('openoffice', 'openoffice')]}\n"
     ]
    },
    {
     "name": "stderr",
     "output_type": "stream",
     "text": [
      "100%|██████████| 7/7 [02:58<00:00, 25.45s/it]"
     ]
    },
    {
     "name": "stdout",
     "output_type": "stream",
     "text": [
      "Precision: 0.940\n",
      "Recall: 0.781\n",
      "F1-Score: 0.853\n",
      "True Positives: 125\n",
      "False Positives: 8\n",
      "False Negatives: 35\n",
      "False Positives List:\n",
      "False Negatives List:\n",
      "Results with LLM For cutoff 80: {'Precision': 0.9398496240601504, 'Recall': 0.78125, 'F1-Score': 0.8532423208191127, 'True Positives': 125, 'False Positives': 8, 'False Negatives': 35, 'False Positives List': [('inkscape', 'camtasia'), ('gotomeeting', 'join.me'), ('textpad', 'textpad'), ('microsoft power bi report builder', 'microsoft® report builder'), ('microsoft teams', 'microsoft teams room'), ('mindjet mindmanager reader', 'mindmanager'), ('ringcentral meetings', 'anywhere conferencing'), ('libreoffice', 'libreoffice')], 'False Negatives List': [('mikogo', 'beamyourscreen'), ('sendinblue', 'brevo transactional email'), ('anaconda3', 'anaconda'), ('dynamincs nav app', 'microsoft dynamics 365 business central'), ('smartanalyzer app sdk', 'caseware idea'), ('github desktop', 'github'), ('sendinblue', 'brevo marketing platform'), ('abbyy flexicapture', 'abbyy flexicapture for invoices'), ('microsoft office', 'microsoft 365'), ('gotomeeting', 'goto meeting'), ('cosinex bietertool', 'cosinex vergabemarktplatz (vmp)'), ('adobe spark page', 'adobe creative cloud express'), ('gotowebinar', 'goto webinar'), ('sophos ssl vpn client', 'sophos firewall'), ('zoom', 'zoom'), ('vitero starter', 'vitero inspire'), ('microsoft power bi report builder', 'microsoft power bi desktop'), ('safenet authentication client', 'thales safenet trusted access'), ('microsoft visual studio', 'visual studio'), ('libreoffice', 'libreoffice calc'), ('threema', 'threema onprem'), ('adobe spark video', 'adobe creative cloud express'), ('microsoft teams', 'microsoft teams'), ('adobe spark post', 'adobe creative cloud express'), ('pulse secure', 'ivanti connect secure'), ('bildungsinnovator lernkarten', 'lxt authoring'), ('bildungsinnovator lernkarten', 'lxt engagement'), ('easyslides', 'easyslides'), ('joinme', 'join.me'), ('gotoassist expert', 'goto resolve (formerly gotoassist)'), ('ringcentral meetings', 'ringcentral mvp'), ('d.vinci', 'd.vinci bewerbermanagement'), ('microsoft onedrive', 'microsoft onedrive for business'), ('teams', 'microsoft teams'), ('adobe photoshop elements', 'photoshop elements')]}\n"
     ]
    },
    {
     "name": "stderr",
     "output_type": "stream",
     "text": [
      "\n"
     ]
    }
   ],
   "source": [
    "# Load the translated data and match locally\n",
    "\n",
    "potential_matches = []\n",
    "for i in range(75, 81, 5):\n",
    "    df_matched, potential_matches = load_and_match(df, similarity_cutoff=i)\n",
    "    # Evaluate results\n",
    "    results = evaluate_matching(df_matched, ground_truth_file)\n",
    "    print(f\"Results before LLM for cutoff {i}: \", results)\n",
    "\n",
    "    # Ensure column names are stripped of any leading/trailing spaces\n",
    "    potential_matches.columns = potential_matches.columns.str.strip()\n",
    "\n",
    "        # Now safely select and rename\n",
    "    potential_matches = potential_matches[['human_name', 'human_description']].rename(\n",
    "            columns={'human_name': 'name', 'human_description': 'description'}\n",
    "    )\n",
    "    # Process matches asynchronously using to_thread (since process_all_batches is not async)\n",
    "    df_potential = process_all_batches(potential_matches, 95, 50)\n",
    "\n",
    "    # Merge results\n",
    "    df_final = pd.concat([df_matched, df_potential], axis=0)\n",
    "\n",
    "    results = evaluate_matching(df_final, ground_truth_file)\n",
    "    print(f\"Results with LLM For cutoff {i}:\", results) \n",
    "\n",
    "\n",
    "\n",
    "# Debug: Print columns to check data\n",
    "#print(\"Columns in potential_matches:\", potential_matches.columns)\n"
   ]
  },
  {
   "cell_type": "code",
   "execution_count": 4,
   "metadata": {},
   "outputs": [
    {
     "name": "stdout",
     "output_type": "stream",
     "text": [
      "Precision: 0.980\n",
      "Recall: 0.606\n",
      "F1-Score: 0.749\n",
      "True Positives: 97\n",
      "False Positives: 2\n",
      "False Negatives: 63\n",
      "False Positives List:\n",
      "False Negatives List:\n",
      "{'Precision': 0.9797979797979798, 'Recall': 0.60625, 'F1-Score': 0.7490347490347489, 'True Positives': 97, 'False Positives': 2, 'False Negatives': 63, 'False Positives List': [('microsoft teams', 'microsoft teams room'), ('mindjet mindmanager reader', 'mindmanager')], 'False Negatives List': [('skype meetings', 'skype'), ('mikogo', 'beamyourscreen'), ('sendinblue', 'brevo transactional email'), ('anaconda3', 'anaconda'), ('dynamincs nav app', 'microsoft dynamics 365 business central'), ('barracuda network access client', 'barracuda network access client'), ('smartanalyzer app sdk', 'caseware idea'), ('github desktop', 'github'), ('sendinblue', 'brevo marketing platform'), ('abbyy flexicapture', 'abbyy flexicapture for invoices'), ('microsoft office', 'microsoft 365'), ('gotomeeting', 'goto meeting'), ('microsoft visio viewer', 'visio'), ('adobe spark page', 'adobe creative cloud express'), ('gotowebinar', 'goto webinar'), ('cosinex bietertool', 'cosinex vergabemarktplatz (vmp)'), ('zoom', 'zoom'), ('sophos ssl vpn client', 'sophos firewall'), ('vitero starter', 'vitero inspire'), ('microsoft power bi report builder', 'microsoft power bi desktop'), ('reflectorapp', 'reflector'), ('idea', 'caseware idea'), ('haufe zeugnis manager premium', 'haufe zeugnis manager'), ('notepad++', 'notepad++'), ('maxon cinemad', 'cinema 4d'), ('microsoft visual studio', 'visual studio'), ('libreoffice', 'libreoffice calc'), ('dpma direkt', 'dpmadirektpro'), ('adobe spark video', 'adobe creative cloud express'), ('safenet authentication client', 'thales safenet trusted access'), ('threema', 'threema onprem'), ('onepoint projects', 'planforge (formerly onepoint projects)'), ('microsoft teams', 'microsoft teams'), ('microsoft visio', 'visio'), ('microsoft todo für windows 10', 'microsoft to do'), ('starleaf', 'starleaf'), ('opera stable', 'opera'), ('adobe spark post', 'adobe creative cloud express'), ('icloud', 'apple icloud'), ('teamdrive', 'synqion'), ('bkms incident reporting', 'bkms® system'), ('goto opener', 'goto meeting'), ('pulse secure', 'ivanti connect secure'), ('pafnow companion', 'pafnow process mining'), ('pvsol premium', 'pv*sol'), ('meistertask', 'meistertask'), ('google chrome', 'chrome'), ('bildungsinnovator lernkarten', 'lxt authoring'), ('cofenster', 'cofenster'), ('jet excel add-in', 'jet reports'), ('bildungsinnovator lernkarten', 'lxt engagement'), ('easyslides', 'easyslides'), ('dropbox', 'dropbox'), ('joinme', 'join.me'), ('gotoassist expert', 'goto resolve (formerly gotoassist)'), ('ringcentral meetings', 'ringcentral mvp'), ('microsoft report builder', 'microsoft® report builder'), ('d.vinci', 'd.vinci bewerbermanagement'), ('microsoft onedrive', 'microsoft onedrive for business'), ('uipath studio', 'uipath studio'), ('teams', 'microsoft teams'), ('adobe photoshop elements', 'photoshop elements'), ('openoffice', 'openoffice')]}\n"
     ]
    }
   ],
   "source": [
    "# Evaluate results\n",
    "results = evaluate_matching(df_matched, ground_truth_file)\n",
    "print(results)"
   ]
  },
  {
   "cell_type": "code",
   "execution_count": 5,
   "metadata": {},
   "outputs": [
    {
     "name": "stdout",
     "output_type": "stream",
     "text": [
      "Columns in df: Index(['id', 'organization_id', 'name', 'description', 'in_house',\n",
      "       'embedding'],\n",
      "      dtype='object')\n",
      "['name', 'description']\n"
     ]
    },
    {
     "ename": "KeyError",
     "evalue": "\"None of [Index(['human_name', 'human_description'], dtype='object')] are in the [columns]\"",
     "output_type": "error",
     "traceback": [
      "\u001b[1;31m---------------------------------------------------------------------------\u001b[0m",
      "\u001b[1;31mKeyError\u001b[0m                                  Traceback (most recent call last)",
      "Cell \u001b[1;32mIn[5], line 9\u001b[0m\n\u001b[0;32m      6\u001b[0m potential_matches\u001b[38;5;241m.\u001b[39mcolumns \u001b[38;5;241m=\u001b[39m potential_matches\u001b[38;5;241m.\u001b[39mcolumns\u001b[38;5;241m.\u001b[39mstr\u001b[38;5;241m.\u001b[39mstrip()\n\u001b[0;32m      8\u001b[0m     \u001b[38;5;66;03m# Now safely select and rename\u001b[39;00m\n\u001b[1;32m----> 9\u001b[0m potential_matches \u001b[38;5;241m=\u001b[39m \u001b[43mpotential_matches\u001b[49m\u001b[43m[\u001b[49m\u001b[43m[\u001b[49m\u001b[38;5;124;43m'\u001b[39;49m\u001b[38;5;124;43mhuman_name\u001b[39;49m\u001b[38;5;124;43m'\u001b[39;49m\u001b[43m,\u001b[49m\u001b[43m \u001b[49m\u001b[38;5;124;43m'\u001b[39;49m\u001b[38;5;124;43mhuman_description\u001b[39;49m\u001b[38;5;124;43m'\u001b[39;49m\u001b[43m]\u001b[49m\u001b[43m]\u001b[49m\u001b[38;5;241m.\u001b[39mrename(\n\u001b[0;32m     10\u001b[0m         columns\u001b[38;5;241m=\u001b[39m{\u001b[38;5;124m'\u001b[39m\u001b[38;5;124mhuman_name\u001b[39m\u001b[38;5;124m'\u001b[39m: \u001b[38;5;124m'\u001b[39m\u001b[38;5;124mname\u001b[39m\u001b[38;5;124m'\u001b[39m, \u001b[38;5;124m'\u001b[39m\u001b[38;5;124mhuman_description\u001b[39m\u001b[38;5;124m'\u001b[39m: \u001b[38;5;124m'\u001b[39m\u001b[38;5;124mdescription\u001b[39m\u001b[38;5;124m'\u001b[39m}\n\u001b[0;32m     11\u001b[0m )\n\u001b[0;32m     12\u001b[0m \u001b[38;5;28mprint\u001b[39m([col \u001b[38;5;28;01mfor\u001b[39;00m col \u001b[38;5;129;01min\u001b[39;00m potential_matches\u001b[38;5;241m.\u001b[39mcolumns])\n",
      "File \u001b[1;32m~\\AppData\\Roaming\\Python\\Python312\\site-packages\\pandas\\core\\frame.py:3899\u001b[0m, in \u001b[0;36mDataFrame.__getitem__\u001b[1;34m(self, key)\u001b[0m\n\u001b[0;32m   3897\u001b[0m     \u001b[38;5;28;01mif\u001b[39;00m is_iterator(key):\n\u001b[0;32m   3898\u001b[0m         key \u001b[38;5;241m=\u001b[39m \u001b[38;5;28mlist\u001b[39m(key)\n\u001b[1;32m-> 3899\u001b[0m     indexer \u001b[38;5;241m=\u001b[39m \u001b[38;5;28;43mself\u001b[39;49m\u001b[38;5;241;43m.\u001b[39;49m\u001b[43mcolumns\u001b[49m\u001b[38;5;241;43m.\u001b[39;49m\u001b[43m_get_indexer_strict\u001b[49m\u001b[43m(\u001b[49m\u001b[43mkey\u001b[49m\u001b[43m,\u001b[49m\u001b[43m \u001b[49m\u001b[38;5;124;43m\"\u001b[39;49m\u001b[38;5;124;43mcolumns\u001b[39;49m\u001b[38;5;124;43m\"\u001b[39;49m\u001b[43m)\u001b[49m[\u001b[38;5;241m1\u001b[39m]\n\u001b[0;32m   3901\u001b[0m \u001b[38;5;66;03m# take() does not accept boolean indexers\u001b[39;00m\n\u001b[0;32m   3902\u001b[0m \u001b[38;5;28;01mif\u001b[39;00m \u001b[38;5;28mgetattr\u001b[39m(indexer, \u001b[38;5;124m\"\u001b[39m\u001b[38;5;124mdtype\u001b[39m\u001b[38;5;124m\"\u001b[39m, \u001b[38;5;28;01mNone\u001b[39;00m) \u001b[38;5;241m==\u001b[39m \u001b[38;5;28mbool\u001b[39m:\n",
      "File \u001b[1;32m~\\AppData\\Roaming\\Python\\Python312\\site-packages\\pandas\\core\\indexes\\base.py:6115\u001b[0m, in \u001b[0;36mIndex._get_indexer_strict\u001b[1;34m(self, key, axis_name)\u001b[0m\n\u001b[0;32m   6112\u001b[0m \u001b[38;5;28;01melse\u001b[39;00m:\n\u001b[0;32m   6113\u001b[0m     keyarr, indexer, new_indexer \u001b[38;5;241m=\u001b[39m \u001b[38;5;28mself\u001b[39m\u001b[38;5;241m.\u001b[39m_reindex_non_unique(keyarr)\n\u001b[1;32m-> 6115\u001b[0m \u001b[38;5;28;43mself\u001b[39;49m\u001b[38;5;241;43m.\u001b[39;49m\u001b[43m_raise_if_missing\u001b[49m\u001b[43m(\u001b[49m\u001b[43mkeyarr\u001b[49m\u001b[43m,\u001b[49m\u001b[43m \u001b[49m\u001b[43mindexer\u001b[49m\u001b[43m,\u001b[49m\u001b[43m \u001b[49m\u001b[43maxis_name\u001b[49m\u001b[43m)\u001b[49m\n\u001b[0;32m   6117\u001b[0m keyarr \u001b[38;5;241m=\u001b[39m \u001b[38;5;28mself\u001b[39m\u001b[38;5;241m.\u001b[39mtake(indexer)\n\u001b[0;32m   6118\u001b[0m \u001b[38;5;28;01mif\u001b[39;00m \u001b[38;5;28misinstance\u001b[39m(key, Index):\n\u001b[0;32m   6119\u001b[0m     \u001b[38;5;66;03m# GH 42790 - Preserve name from an Index\u001b[39;00m\n",
      "File \u001b[1;32m~\\AppData\\Roaming\\Python\\Python312\\site-packages\\pandas\\core\\indexes\\base.py:6176\u001b[0m, in \u001b[0;36mIndex._raise_if_missing\u001b[1;34m(self, key, indexer, axis_name)\u001b[0m\n\u001b[0;32m   6174\u001b[0m     \u001b[38;5;28;01mif\u001b[39;00m use_interval_msg:\n\u001b[0;32m   6175\u001b[0m         key \u001b[38;5;241m=\u001b[39m \u001b[38;5;28mlist\u001b[39m(key)\n\u001b[1;32m-> 6176\u001b[0m     \u001b[38;5;28;01mraise\u001b[39;00m \u001b[38;5;167;01mKeyError\u001b[39;00m(\u001b[38;5;124mf\u001b[39m\u001b[38;5;124m\"\u001b[39m\u001b[38;5;124mNone of [\u001b[39m\u001b[38;5;132;01m{\u001b[39;00mkey\u001b[38;5;132;01m}\u001b[39;00m\u001b[38;5;124m] are in the [\u001b[39m\u001b[38;5;132;01m{\u001b[39;00maxis_name\u001b[38;5;132;01m}\u001b[39;00m\u001b[38;5;124m]\u001b[39m\u001b[38;5;124m\"\u001b[39m)\n\u001b[0;32m   6178\u001b[0m not_found \u001b[38;5;241m=\u001b[39m \u001b[38;5;28mlist\u001b[39m(ensure_index(key)[missing_mask\u001b[38;5;241m.\u001b[39mnonzero()[\u001b[38;5;241m0\u001b[39m]]\u001b[38;5;241m.\u001b[39munique())\n\u001b[0;32m   6179\u001b[0m \u001b[38;5;28;01mraise\u001b[39;00m \u001b[38;5;167;01mKeyError\u001b[39;00m(\u001b[38;5;124mf\u001b[39m\u001b[38;5;124m\"\u001b[39m\u001b[38;5;132;01m{\u001b[39;00mnot_found\u001b[38;5;132;01m}\u001b[39;00m\u001b[38;5;124m not in index\u001b[39m\u001b[38;5;124m\"\u001b[39m)\n",
      "\u001b[1;31mKeyError\u001b[0m: \"None of [Index(['human_name', 'human_description'], dtype='object')] are in the [columns]\""
     ]
    }
   ],
   "source": [
    "# Debug: Print columns to check data\n",
    "print(\"Columns in df:\", df.columns)\n",
    "print([col for col in potential_matches.columns])  # Should print clean column names\n",
    "\n",
    "# Ensure column names are stripped of any leading/trailing spaces\n",
    "potential_matches.columns = potential_matches.columns.str.strip()\n",
    "\n",
    "    # Now safely select and rename\n",
    "potential_matches = potential_matches[['human_name', 'human_description']].rename(\n",
    "        columns={'human_name': 'name', 'human_description': 'description'}\n",
    ")\n",
    "print([col for col in potential_matches.columns])"
   ]
  },
  {
   "cell_type": "code",
   "execution_count": 37,
   "metadata": {},
   "outputs": [
    {
     "name": "stderr",
     "output_type": "stream",
     "text": [
      "100%|██████████| 3/3 [01:10<00:00, 23.64s/it]\n"
     ]
    }
   ],
   "source": [
    "# Process matches asynchronously using to_thread (since process_all_batches is not async)\n",
    "df_potential = process_all_batches(potential_matches, 98, 50)\n",
    "\n",
    "# Merge results\n",
    "df_final = pd.concat([df, df_potential], axis=0)"
   ]
  },
  {
   "cell_type": "code",
   "execution_count": 38,
   "metadata": {},
   "outputs": [
    {
     "name": "stdout",
     "output_type": "stream",
     "text": [
      "Precision: 0.981\n",
      "Recall: 0.637\n",
      "F1-Score: 0.773\n",
      "True Positives: 102\n",
      "False Positives: 2\n",
      "False Negatives: 58\n",
      "False Positives List:\n",
      "False Negatives List:\n",
      "{'Precision': 0.9807692307692307, 'Recall': 0.6375, 'F1-Score': 0.7727272727272727, 'True Positives': 102, 'False Positives': 2, 'False Negatives': 58, 'False Positives List': [('libreoffice', 'libreoffice'), ('mindjet mindmanager reader', 'mindmanager')], 'False Negatives List': [('teamdrive', 'synqion'), ('abbyy flexicapture', 'abbyy flexicapture for invoices'), ('articulate studio', 'articulate 360'), ('cosinex bietertool', 'cosinex vergabemarktplatz (vmp)'), ('icloud', 'apple icloud'), ('pvsol premium', 'pv*sol'), ('pafnow companion', 'pafnow process mining'), ('zoom', 'zoom'), ('sparkol videoscribe', 'videoscribe'), ('microsoft project standard', 'microsoft project'), ('gotoassist expert', 'goto resolve (formerly gotoassist)'), ('reflectorapp', 'reflector'), ('vitero starter', 'vitero inspire'), ('bkms incident reporting', 'bkms® system'), ('sendinblue', 'brevo marketing platform'), ('smartanalyzer app sdk', 'caseware idea'), ('anaconda3', 'anaconda'), ('idea', 'caseware idea'), ('bildungsinnovator lernkarten', 'lxt authoring'), ('skype meetings', 'skype'), ('microsoft visio', 'visio'), ('gotowebinar', 'goto webinar'), ('ringcentral meetings', 'ringcentral mvp'), ('teams', 'microsoft teams'), ('microsoft power bi report builder', 'microsoft power bi desktop'), ('easyslides', 'easyslides'), ('pulse secure', 'ivanti connect secure'), ('adobe acrobat dc', 'adobe acrobat'), ('dynamincs nav app', 'microsoft dynamics 365 business central'), ('adobe spark page', 'adobe creative cloud express'), ('safenet authentication client', 'thales safenet trusted access'), ('microsoft visio viewer', 'visio'), ('github desktop', 'github'), ('globalmeet', 'globalmeet webcast'), ('gotomeeting', 'goto meeting'), ('adobe spark video', 'adobe creative cloud express'), ('goto opener', 'goto meeting'), ('jet excel add-in', 'jet reports'), ('bildungsinnovator lernkarten', 'lxt engagement'), ('opera stable', 'opera'), ('threema', 'threema onprem'), ('microsoft office', 'microsoft 365'), ('libreoffice', 'libreoffice calc'), ('d.vinci', 'd.vinci onboarding-software'), ('microsoft onedrive', 'microsoft onedrive for business'), ('adobe photoshop elements', 'photoshop elements'), ('qlik sense desktop', 'qlik sense'), ('haufe zeugnis manager premium', 'haufe zeugnis manager'), ('sophos ssl vpn client', 'sophos firewall'), ('bitwarden vault', 'bitwarden'), ('microsoft todo für windows 10', 'microsoft to do'), ('d.vinci', 'd.vinci bewerbermanagement'), ('mikogo', 'beamyourscreen'), ('adobe spark post', 'adobe creative cloud express'), ('sendinblue', 'brevo transactional email'), ('microsoft visual studio', 'visual studio'), ('joinme', 'join.me'), ('onepoint projects', 'planforge (formerly onepoint projects)')]}\n"
     ]
    }
   ],
   "source": [
    "# Evaluate results\n",
    "results = evaluate_matching(df_final, ground_truth_file)\n",
    "print(results)"
   ]
  },
  {
   "cell_type": "code",
   "execution_count": 2,
   "metadata": {},
   "outputs": [
    {
     "name": "stdout",
     "output_type": "stream",
     "text": [
      "Translating 110 texts asynchronously...\n",
      "Translation complete.\n",
      "Cleaning file...\n",
      "Computing embeddings for human descriptions...\n",
      "Matching human descriptions to tools...\n",
      "Amount of total Matches:  119\n",
      "Amount of potential Matches:  3144\n",
      "Number of dropped/deleted matches: 37\n",
      "Number of final matches: 82\n",
      "Number of potential matches: 145\n",
      "Precision: 0.988\n",
      "Recall: 0.862\n",
      "F1-Score: 0.920\n",
      "True Positives: 81\n",
      "False Positives: 1\n",
      "False Negatives: 13\n",
      "False Positives List:\n",
      "False Negatives List:\n",
      "Results before LLM for cutoff 75:  {'Precision': 0.9878048780487805, 'Recall': 0.8617021276595744, 'F1-Score': 0.9204545454545454, 'True Positives': 81, 'False Positives': 1, 'False Negatives': 13, 'False Positives List': [('linkedin', 'linkedin learning')], 'False Negatives List': [('sap leanix application portfolio management', 'leanix saas management platform'), ('sap leanix application portfolio management', 'leanix enterprise architecture management'), ('bic enterprise risk', 'bic grc'), ('knowbe4', 'knowbe4 securitycoach'), ('knowbe4', 'knowbe4 security awareness training'), ('knowbe4', 'knowbe4 phisher'), ('sap fi/co', 'sap financial management'), ('exchange online', 'microsoft exchange'), ('sap sales and distribution', 'sap sales cloud'), ('sap leanix technology risk and compliance', 'leanix enterprise architecture management'), ('easy archive', 'easyarchive'), ('sap materials management', 'sap s/4hana cloud'), ('linkedin', 'linkedin premium')]}\n"
     ]
    },
    {
     "name": "stderr",
     "output_type": "stream",
     "text": [
      "100%|██████████| 3/3 [01:22<00:00, 27.37s/it]"
     ]
    },
    {
     "name": "stdout",
     "output_type": "stream",
     "text": [
      "<class 'pandas.core.frame.DataFrame'>                                  human_name                     tool_name  \\\n",
      "48                                     miro                          miro   \n",
      "73                                 docusign                      docusign   \n",
      "71                       microsoft entra id            microsoft entra id   \n",
      "70                       microsoft entra id            microsoft entra id   \n",
      "69                  bitdefender gravityzone       bitdefender gravityzone   \n",
      "..                                      ...                           ...   \n",
      "38                     atlassian confluence                    confluence   \n",
      "52                       atlassian opsgenie                      opsgenie   \n",
      "39                               teamviewer             teamviewer remote   \n",
      "41  codetwo email signatures for office 365  codetwo email signatures 365   \n",
      "0                   microsoft visual studio                 visual studio   \n",
      "\n",
      "    similarity_score  \n",
      "48             100.0  \n",
      "73             100.0  \n",
      "71             100.0  \n",
      "70             100.0  \n",
      "69             100.0  \n",
      "..               ...  \n",
      "38              95.0  \n",
      "52              95.0  \n",
      "39              95.0  \n",
      "41              95.0  \n",
      "0               95.0  \n",
      "\n",
      "[97 rows x 3 columns]\n",
      "<class 'pandas.core.frame.DataFrame'>                                     human_name  \\\n",
      "0                        sap cloud integration   \n",
      "1                              exchange online   \n",
      "2                                final cut pro   \n",
      "3             sap customer activity repository   \n",
      "4                                  sap s4/hana   \n",
      "5                           microsoft onedrive   \n",
      "6   sap enterprise threat detection on premise   \n",
      "7                                    instagram   \n",
      "8                          lexware reisekosten   \n",
      "9                           microsoft onedrive   \n",
      "10                       sap cloud integration   \n",
      "11                       sap cloud integration   \n",
      "12                       sap cloud integration   \n",
      "\n",
      "                                            tool_name  similarity_score  \n",
      "0                               sap integration suite              90.0  \n",
      "1                                  microsoft exchange              90.0  \n",
      "2                                     final cut pro x              90.0  \n",
      "3   sap customer activity repository applications ...              90.0  \n",
      "4                                   sap s/4hana cloud              90.0  \n",
      "5                     microsoft onedrive for business              90.0  \n",
      "6                     sap enterprise threat detection              90.0  \n",
      "7                              instagram for business              90.0  \n",
      "8                                 lexware reisekosten              90.0  \n",
      "9                     microsoft onedrive for business              90.0  \n",
      "10                              sap integration suite              90.0  \n",
      "11                              sap integration suite              90.0  \n",
      "12                              sap integration suite              90.0  \n",
      "Precision: 0.988\n",
      "Recall: 0.872\n",
      "F1-Score: 0.927\n",
      "True Positives: 82\n",
      "False Positives: 1\n",
      "False Negatives: 12\n",
      "False Positives List:\n",
      "False Negatives List:\n",
      "Recommended tools by AI:                                     human_name  \\\n",
      "0                        sap cloud integration   \n",
      "1                              exchange online   \n",
      "2                                final cut pro   \n",
      "3             sap customer activity repository   \n",
      "4                                  sap s4/hana   \n",
      "5                           microsoft onedrive   \n",
      "6   sap enterprise threat detection on premise   \n",
      "7                                    instagram   \n",
      "8                          lexware reisekosten   \n",
      "9                           microsoft onedrive   \n",
      "10                       sap cloud integration   \n",
      "11                       sap cloud integration   \n",
      "12                       sap cloud integration   \n",
      "\n",
      "                                            tool_name  similarity_score  \n",
      "0                               sap integration suite              90.0  \n",
      "1                                  microsoft exchange              90.0  \n",
      "2                                     final cut pro x              90.0  \n",
      "3   sap customer activity repository applications ...              90.0  \n",
      "4                                   sap s/4hana cloud              90.0  \n",
      "5                     microsoft onedrive for business              90.0  \n",
      "6                     sap enterprise threat detection              90.0  \n",
      "7                              instagram for business              90.0  \n",
      "8                                 lexware reisekosten              90.0  \n",
      "9                     microsoft onedrive for business              90.0  \n",
      "10                              sap integration suite              90.0  \n",
      "11                              sap integration suite              90.0  \n",
      "12                              sap integration suite              90.0  \n"
     ]
    },
    {
     "name": "stderr",
     "output_type": "stream",
     "text": [
      "\n"
     ]
    }
   ],
   "source": [
    "from langchain_matcher import process_all_batches\n",
    "\n",
    "input_file_2 = os.path.join(softwaregini_dir, \"organization_tools_2.csv\")\n",
    "ground_truth_file_2 = os.path.join(data_dir, \"ground_truth_2.csv\")\n",
    "\n",
    "# Run translation (handle async functions in Jupyter properly)\n",
    "df_2 = await translate_column_to_english(input_file_2)\n",
    "df_2 = clean_file(df_2)\n",
    "\n",
    "df_matched_2, potential_matches_2 = load_and_match(df_2, similarity_cutoff=75)\n",
    "results_2 = evaluate_matching(df_matched_2, ground_truth_file_2)\n",
    "print(f\"Results before LLM for cutoff 75: \", results_2)\n",
    "\n",
    "# Ensure column names are stripped of any leading/trailing spaces\n",
    "potential_matches_2.columns = potential_matches_2.columns.str.strip()\n",
    "\n",
    "# Now safely select and rename\n",
    "potential_matches_2 = potential_matches_2[['human_name', 'human_description']].rename(\n",
    "    columns={'human_name': 'name', 'human_description': 'description'})\n",
    "# Process matches asynchronously using to_thread (since process_all_batches is not async)\n",
    "df_llm_2, df_recommended = process_all_batches(potential_matches_2, 95, 50)\n",
    "\n",
    "# Merge results\n",
    "df_final_2 = pd.concat([df_matched_2, df_llm_2], axis=0)\n",
    "#df_final_2 = clean_file(df_final_2)\n",
    "results_2 = evaluate_matching(df_final_2, ground_truth_file_2, input_file_2)\n",
    "print(f\"Recommended tools by AI:\", df_recommended)\n",
    "\n",
    "print(df_recommended)"
   ]
  },
  {
   "cell_type": "markdown",
   "metadata": {},
   "source": [
    "## Async Part"
   ]
  },
  {
   "cell_type": "markdown",
   "metadata": {},
   "source": []
  },
  {
   "cell_type": "code",
   "execution_count": 5,
   "metadata": {},
   "outputs": [
    {
     "name": "stdout",
     "output_type": "stream",
     "text": [
      "Translating 327 texts asynchronously...\n",
      "Translation complete.\n",
      "Cleaning file...\n",
      "Computing embeddings for human descriptions...\n",
      "Matching human descriptions to tools...\n",
      "Amount of total Matches:  154\n",
      "Amount of potential Matches:  5614\n",
      "Number of dropped/deleted matches: 35\n",
      "Number of final matches: 119\n",
      "Number of potential matches: 333\n",
      "Precision: 0.958\n",
      "Recall: 0.713\n",
      "F1-Score: 0.817\n",
      "True Positives: 114\n",
      "True Negatives: 162\n",
      "False Positives: 5\n",
      "False Negatives: 46\n",
      "False Positives List:\n",
      "False Negatives List:\n",
      "Results before LLM for cutoff 75:  {'Precision': 0.957983193277311, 'Recall': 0.7125, 'F1-Score': 0.8172043010752688, 'True Positives': 114, 'True Negatives': 162, 'False Positives': 5, 'False Negatives': 46, 'False Positives List': [('mindjet mindmanager reader', 'mindmanager'), ('libreoffice', 'libreoffice'), ('microsoft teams', 'microsoft teams room'), ('crystal report runtime sp6', 'sap crystal'), ('crystal reports activex viewer', 'sap crystal')], 'False Negatives List': [('bkms incident reporting', 'bkms® system'), ('dpma direkt', 'dpmadirektpro'), ('sophos ssl vpn client', 'sophos firewall'), ('teamdrive', 'synqion'), ('microsoft office', 'microsoft 365'), ('google chrome', 'chrome'), ('pvsol premium', 'pv*sol'), ('pafnow companion', 'pafnow process mining'), ('opera stable', 'opera'), ('bildungsinnovator lernkarten', 'lxt authoring'), ('sendinblue', 'brevo marketing platform'), ('mikogo', 'beamyourscreen'), ('onepoint projects', 'planforge (formerly onepoint projects)'), ('ringcentral meetings', 'ringcentral mvp'), ('joinme', 'join.me'), ('vitero starter', 'vitero inspire'), ('barracuda network access client', 'barracuda network access client'), ('bildungsinnovator lernkarten', 'lxt engagement'), ('microsoft report builder', 'microsoft® report builder'), ('anaconda3', 'anaconda'), ('starleaf', 'starleaf'), ('maxon cinemad', 'cinema 4d'), ('sendinblue', 'brevo transactional email'), ('zoom', 'zoom'), ('gotowebinar', 'goto webinar'), ('haufe zeugnis manager premium', 'haufe zeugnis manager'), ('threema', 'threema onprem'), ('libreoffice', 'libreoffice calc'), ('adobe spark page', 'adobe creative cloud express'), ('adobe spark post', 'adobe creative cloud express'), ('pulse secure', 'ivanti connect secure'), ('skype meetings', 'skype'), ('smartanalyzer app sdk', 'caseware idea'), ('jet excel add-in', 'jet reports'), ('goto opener', 'goto meeting'), ('abbyy flexicapture', 'abbyy flexicapture for invoices'), ('adobe photoshop elements', 'photoshop elements'), ('reflectorapp', 'reflector'), ('dynamincs nav app', 'microsoft dynamics 365 business central'), ('cosinex bietertool', 'cosinex vergabemarktplatz (vmp)'), ('microsoft teams', 'microsoft teams'), ('d.vinci', 'd.vinci bewerbermanagement'), ('uipath studio', 'uipath studio'), ('gotoassist expert', 'goto resolve (formerly gotoassist)'), ('safenet authentication client', 'thales safenet trusted access'), ('adobe spark video', 'adobe creative cloud express')]}\n"
     ]
    },
    {
     "name": "stderr",
     "output_type": "stream",
     "text": [
      "100%|██████████| 7/7 [00:24<00:00,  3.44s/it]"
     ]
    },
    {
     "name": "stdout",
     "output_type": "stream",
     "text": [
      "Cleaning file...\n",
      "Precision: 0.960\n",
      "Recall: 0.750\n",
      "F1-Score: 0.842\n",
      "True Positives: 120\n",
      "True Negatives: 162\n",
      "False Positives: 5\n",
      "False Negatives: 40\n",
      "False Positives List:\n",
      "False Negatives List:\n",
      "Results after LLM:  {'Precision': 0.96, 'Recall': 0.75, 'F1-Score': 0.8421052631578947, 'True Positives': 120, 'True Negatives': 162, 'False Positives': 5, 'False Negatives': 40, 'False Positives List': [('mindjet mindmanager reader', 'mindmanager'), ('libreoffice', 'libreoffice'), ('microsoft teams', 'microsoft teams room'), ('crystal report runtime sp6', 'sap crystal'), ('crystal reports activex viewer', 'sap crystal')], 'False Negatives List': [('bkms incident reporting', 'bkms® system'), ('dpma direkt', 'dpmadirektpro'), ('sophos ssl vpn client', 'sophos firewall'), ('teamdrive', 'synqion'), ('microsoft office', 'microsoft 365'), ('google chrome', 'chrome'), ('pafnow companion', 'pafnow process mining'), ('bildungsinnovator lernkarten', 'lxt authoring'), ('sendinblue', 'brevo marketing platform'), ('mikogo', 'beamyourscreen'), ('onepoint projects', 'planforge (formerly onepoint projects)'), ('ringcentral meetings', 'ringcentral mvp'), ('joinme', 'join.me'), ('vitero starter', 'vitero inspire'), ('barracuda network access client', 'barracuda network access client'), ('bildungsinnovator lernkarten', 'lxt engagement'), ('microsoft report builder', 'microsoft® report builder'), ('starleaf', 'starleaf'), ('maxon cinemad', 'cinema 4d'), ('sendinblue', 'brevo transactional email'), ('zoom', 'zoom'), ('gotowebinar', 'goto webinar'), ('threema', 'threema onprem'), ('libreoffice', 'libreoffice calc'), ('adobe spark page', 'adobe creative cloud express'), ('adobe spark post', 'adobe creative cloud express'), ('pulse secure', 'ivanti connect secure'), ('smartanalyzer app sdk', 'caseware idea'), ('jet excel add-in', 'jet reports'), ('goto opener', 'goto meeting'), ('abbyy flexicapture', 'abbyy flexicapture for invoices'), ('adobe photoshop elements', 'photoshop elements'), ('dynamincs nav app', 'microsoft dynamics 365 business central'), ('cosinex bietertool', 'cosinex vergabemarktplatz (vmp)'), ('microsoft teams', 'microsoft teams'), ('d.vinci', 'd.vinci bewerbermanagement'), ('uipath studio', 'uipath studio'), ('gotoassist expert', 'goto resolve (formerly gotoassist)'), ('safenet authentication client', 'thales safenet trusted access'), ('adobe spark video', 'adobe creative cloud express')]}\n"
     ]
    },
    {
     "name": "stderr",
     "output_type": "stream",
     "text": [
      "\n"
     ]
    }
   ],
   "source": [
    "import os\n",
    "import pandas as pd\n",
    "from langchain_matcher_async import process_all_batches_async\n",
    "import nest_asyncio\n",
    "from translator import translate_column_to_english\n",
    "from local_matching import load_and_match, evaluate_matching, clean_file\n",
    "\n",
    "# Apply nest_asyncio to allow nested event loops in Jupyter\n",
    "nest_asyncio.apply()\n",
    "\n",
    "# Define file paths\n",
    "softwaregini_dir = \"../softwaregini_files\"\n",
    "data_dir = \"../data\"\n",
    "input_file = os.path.join(softwaregini_dir, \"organization_tools.csv\")\n",
    "ground_truth_file = os.path.join(data_dir, \"ground_truth.csv\")\n",
    "\n",
    "# Load and preprocess data\n",
    "df_async = await translate_column_to_english(input_file)  # Assuming this is an async function\n",
    "df_async = clean_file(df_async)  # Assuming this is a synchronous function\n",
    "\n",
    "# Perform matching and evaluation\n",
    "df_matched_async, potential_matches_async = load_and_match(df_async, similarity_cutoff=75)  # Assuming this is a synchronous function\n",
    "results_async = evaluate_matching(df_matched_async, ground_truth_file, input_file)  # Assuming this is a synchronous function\n",
    "print(f\"Results before LLM for cutoff 75: \", results_async)\n",
    "\n",
    "# Clean and prepare potential matches for LLM processing\n",
    "potential_matches_async.columns = potential_matches_async.columns.str.strip()\n",
    "potential_matches_async = potential_matches_async[['human_name', 'human_description']].rename(\n",
    "    columns={'human_name': 'name', 'human_description': 'description'})\n",
    "\n",
    "# Process potential matches asynchronously\n",
    "df_potential_async , df_recommended_async = await process_all_batches_async(potential_matches_async, 95, 50)\n",
    "\n",
    "# Merge results and evaluate\n",
    "df_final_async = pd.concat([df_matched_async, df_recommended_async], axis=0)\n",
    "df_final_async = clean_file(df_final_async)\n",
    "results_async = evaluate_matching(df_final_async, ground_truth_file, input_file)\n",
    "print(f\"Results after LLM: \", results_async)"
   ]
  },
  {
   "cell_type": "markdown",
   "metadata": {},
   "source": [
    "#### Pipeline for Organization_tools_2: Translation -> Cleaning -> Local Matching -> LLM Matching -> Evaluation"
   ]
  },
  {
   "cell_type": "code",
   "execution_count": 1,
   "metadata": {},
   "outputs": [
    {
     "name": "stdout",
     "output_type": "stream",
     "text": [
      "Translating 110 texts asynchronously...\n",
      "Translation complete.\n",
      "Cleaning file...\n",
      "Computing embeddings for human descriptions...\n",
      "Matching human descriptions to tools...\n",
      "Amount of total Matches:  118\n",
      "Amount of potential Matches:  3161\n",
      "Number of dropped/deleted matches: 37\n",
      "Number of final matches: 81\n",
      "Number of potential matches: 144\n",
      "Precision: 0.988\n",
      "Recall: 0.851\n",
      "F1-Score: 0.914\n",
      "True Positives: 80\n",
      "True Negatives: 15\n",
      "False Positives: 1\n",
      "False Negatives: 14\n",
      "False Positives List:\n",
      "False Negatives List:\n",
      "Results before LLM for cutoff 75:  {'Precision': 0.9876543209876543, 'Recall': 0.851063829787234, 'F1-Score': 0.9142857142857143, 'True Positives': 80, 'True Negatives': 15, 'False Positives': 1, 'False Negatives': 14, 'False Positives List': [('linkedin', 'linkedin learning')], 'False Negatives List': [('sap fi/co', 'sap financial management'), ('sap sales and distribution', 'sap sales cloud'), ('sap leanix technology risk and compliance', 'leanix enterprise architecture management'), ('knowbe4', 'knowbe4 security awareness training'), ('linkedin', 'linkedin premium'), ('leanix enterprise architecture management', 'leanix enterprise architecture management'), ('exchange online', 'microsoft exchange'), ('sap leanix application portfolio management', 'leanix saas management platform'), ('bic enterprise risk', 'bic grc'), ('knowbe4', 'knowbe4 securitycoach'), ('knowbe4', 'knowbe4 phisher'), ('sap leanix application portfolio management', 'leanix enterprise architecture management'), ('easy archive', 'easyarchive'), ('sap materials management', 'sap s/4hana cloud')]}\n"
     ]
    },
    {
     "name": "stderr",
     "output_type": "stream",
     "text": [
      "100%|██████████| 3/3 [00:21<00:00,  7.26s/it]"
     ]
    },
    {
     "name": "stdout",
     "output_type": "stream",
     "text": [
      "Cleaning file...\n",
      "Precision: 0.988\n",
      "Recall: 0.862\n",
      "F1-Score: 0.920\n",
      "True Positives: 81\n",
      "True Negatives: 15\n",
      "False Positives: 1\n",
      "False Negatives: 13\n",
      "False Positives List:\n",
      "False Negatives List:\n",
      "Results after LLM:  {'Precision': 0.9878048780487805, 'Recall': 0.8617021276595744, 'F1-Score': 0.9204545454545454, 'True Positives': 81, 'True Negatives': 15, 'False Positives': 1, 'False Negatives': 13, 'False Positives List': [('linkedin', 'linkedin learning')], 'False Negatives List': [('sap fi/co', 'sap financial management'), ('sap sales and distribution', 'sap sales cloud'), ('sap leanix technology risk and compliance', 'leanix enterprise architecture management'), ('knowbe4', 'knowbe4 security awareness training'), ('linkedin', 'linkedin premium'), ('leanix enterprise architecture management', 'leanix enterprise architecture management'), ('sap leanix application portfolio management', 'leanix saas management platform'), ('bic enterprise risk', 'bic grc'), ('knowbe4', 'knowbe4 securitycoach'), ('knowbe4', 'knowbe4 phisher'), ('sap leanix application portfolio management', 'leanix enterprise architecture management'), ('easy archive', 'easyarchive'), ('sap materials management', 'sap s/4hana cloud')]}\n"
     ]
    },
    {
     "name": "stderr",
     "output_type": "stream",
     "text": [
      "\n"
     ]
    }
   ],
   "source": [
    "import os\n",
    "import pandas as pd\n",
    "from langchain_matcher_async import process_all_batches_async\n",
    "import nest_asyncio\n",
    "from translator import translate_column_to_english\n",
    "from local_matching import load_and_match, evaluate_matching, clean_file\n",
    "\n",
    "# Apply nest_asyncio to allow nested event loops in Jupyter\n",
    "nest_asyncio.apply()\n",
    "\n",
    "# Define file paths\n",
    "softwaregini_dir = \"../softwaregini_files\"\n",
    "data_dir = \"../data\"\n",
    "input_file_2 = os.path.join(softwaregini_dir, \"organization_tools_2.csv\")\n",
    "ground_truth_file_2 = os.path.join(data_dir, \"ground_truth_2.csv\")\n",
    "\n",
    "# Load and preprocess data\n",
    "df_2_async = await translate_column_to_english(input_file_2)  # Assuming this is an async function\n",
    "df_2_async = clean_file(df_2_async)  # Assuming this is a synchronous function\n",
    "\n",
    "# Perform matching and evaluation\n",
    "df_matched_2_async, potential_matches_2_async = load_and_match(df_2_async, similarity_cutoff=75)  # Assuming this is a synchronous function\n",
    "results_2_async = evaluate_matching(df_matched_2_async, ground_truth_file_2, input_file_2)  # Assuming this is a synchronous function\n",
    "print(f\"Results before LLM for cutoff 75: \", results_2_async)\n",
    "\n",
    "# Clean and prepare potential matches for LLM processing\n",
    "potential_matches_2_async.columns = potential_matches_2_async.columns.str.strip()\n",
    "potential_matches_2_async = potential_matches_2_async[['human_name', 'human_description']].rename(\n",
    "    columns={'human_name': 'name', 'human_description': 'description'})\n",
    "\n",
    "# Process potential matches asynchronously\n",
    "df_potential_2_async , df_recommended_async = await process_all_batches_async(potential_matches_2_async, 95, 50)\n",
    "\n",
    "# Merge results and evaluate\n",
    "df_final_2_async = pd.concat([df_matched_2_async, df_recommended_async], axis=0)\n",
    "df_final_2_async = clean_file(df_final_2_async)\n",
    "results_2_async = evaluate_matching(df_final_2_async, ground_truth_file_2, input_file_2)\n",
    "print(f\"Results after LLM: \", results_2_async)"
   ]
  },
  {
   "cell_type": "code",
   "execution_count": 2,
   "metadata": {},
   "outputs": [
    {
     "name": "stdout",
     "output_type": "stream",
     "text": [
      "{'Precision': 0.9878048780487805, 'Recall': 0.8617021276595744, 'F1-Score': 0.9204545454545454, 'True Positives': 81, 'True Negatives': 15, 'False Positives': 1, 'False Negatives': 13, 'False Positives List': [('linkedin', 'linkedin learning')], 'False Negatives List': [('sap fi/co', 'sap financial management'), ('sap sales and distribution', 'sap sales cloud'), ('sap leanix technology risk and compliance', 'leanix enterprise architecture management'), ('knowbe4', 'knowbe4 security awareness training'), ('linkedin', 'linkedin premium'), ('leanix enterprise architecture management', 'leanix enterprise architecture management'), ('sap leanix application portfolio management', 'leanix saas management platform'), ('bic enterprise risk', 'bic grc'), ('knowbe4', 'knowbe4 securitycoach'), ('knowbe4', 'knowbe4 phisher'), ('sap leanix application portfolio management', 'leanix enterprise architecture management'), ('easy archive', 'easyarchive'), ('sap materials management', 'sap s/4hana cloud')]}\n",
      "                                    human_name  \\\n",
      "0                        sap cloud integration   \n",
      "1                              exchange online   \n",
      "2             sap customer activity repository   \n",
      "3                                  sap s4/hana   \n",
      "4                           microsoft onedrive   \n",
      "5   sap enterprise threat detection on premise   \n",
      "6                                    instagram   \n",
      "7                          lexware reisekosten   \n",
      "8                           microsoft onedrive   \n",
      "9                        sap cloud integration   \n",
      "10                       sap cloud integration   \n",
      "11                       sap cloud integration   \n",
      "\n",
      "                                            tool_name  similarity_score  \n",
      "0                               sap integration suite              90.0  \n",
      "1                                  microsoft exchange              90.0  \n",
      "2   sap customer activity repository applications ...              90.0  \n",
      "3                                   sap s/4hana cloud              90.0  \n",
      "4                     microsoft onedrive for business              90.0  \n",
      "5                     sap enterprise threat detection              90.0  \n",
      "6                              instagram for business              90.0  \n",
      "7                                 lexware reisekosten              90.0  \n",
      "8                     microsoft onedrive for business              90.0  \n",
      "9                               sap integration suite              90.0  \n",
      "10                              sap integration suite              90.0  \n",
      "11                              sap integration suite              90.0  \n"
     ]
    }
   ],
   "source": [
    "print(results_2_async)\n",
    "print(df_recommended_async)"
   ]
  },
  {
   "cell_type": "code",
   "execution_count": null,
   "metadata": {},
   "outputs": [],
   "source": []
  }
 ],
 "metadata": {
  "kernelspec": {
   "display_name": "Python 3",
   "language": "python",
   "name": "python3"
  },
  "language_info": {
   "codemirror_mode": {
    "name": "ipython",
    "version": 3
   },
   "file_extension": ".py",
   "mimetype": "text/x-python",
   "name": "python",
   "nbconvert_exporter": "python",
   "pygments_lexer": "ipython3",
   "version": "3.12.1"
  }
 },
 "nbformat": 4,
 "nbformat_minor": 2
}
